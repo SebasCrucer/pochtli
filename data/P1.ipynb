{
 "cells": [
  {
   "metadata": {
    "ExecuteTime": {
     "end_time": "2024-04-20T14:03:12.944452Z",
     "start_time": "2024-04-20T14:03:12.939788Z"
    }
   },
   "cell_type": "code",
   "source": [
    "#Importaciones\n",
    "import numpy as np\n",
    "import pandas as pd\n",
    "import seaborn as sns\n",
    "import matplotlib.pyplot as plt\n",
    "import seaborn as sns\n",
    "from sklearn.model_selection import train_test_split\n",
    "from sklearn.linear_model import LinearRegression\n",
    "from sklearn.metrics import mean_squared_error\n",
    "import warnings"
   ],
   "id": "98d5b4d6ba94176f",
   "outputs": [],
   "execution_count": 262
  },
  {
   "metadata": {
    "ExecuteTime": {
     "end_time": "2024-04-20T14:03:14.183407Z",
     "start_time": "2024-04-20T14:03:13.117386Z"
    }
   },
   "cell_type": "code",
   "source": [
    "#I have a few warnings I don't want to clutter the markdown file with\n",
    "warnings.simplefilter(action='ignore', category=FutureWarning)\n",
    "\n",
    "#Next read in the dataset\n",
    "demand_df = pd.read_csv(\"Historical Product Demand.csv\")\n",
    "\n",
    "#View the first 3 rows of the data, to see what it looks like\n",
    "demand_df.head(3)\n",
    "print()\n",
    "\n",
    "# determine the statistical details of the numerical values\n",
    "print(demand_df.describe())\n",
    "print()\n",
    "#What is the missing values in each of the columns\n",
    "print(demand_df.isnull().sum())\n",
    "\n",
    "#Remove null values from the date column\n",
    "demand_df = demand_df[demand_df['Date'].notnull()]\n",
    "\n",
    "# Find the minimum and maximum dates\n",
    "min_date = demand_df['Date'].min()\n",
    "max_date = demand_df['Date'].max()\n",
    "\n",
    "print(f\"The earliest date is: {min_date}\")\n",
    "print(f\"The latest date is: {max_date}\")"
   ],
   "id": "c09227c8a9af16cb",
   "outputs": [
    {
     "name": "stdout",
     "output_type": "stream",
     "text": [
      "\n",
      "        Product_Code Warehouse Product_Category       Date Order_Demand\n",
      "count        1048575   1048575          1048575    1037336      1048575\n",
      "unique          2160         4               33       1729         3828\n",
      "top     Product_1359    Whse_J     Category_019  2013/9/27        1000 \n",
      "freq           16936    764447           481099       2075       112682\n",
      "\n",
      "Product_Code            0\n",
      "Warehouse               0\n",
      "Product_Category        0\n",
      "Date                11239\n",
      "Order_Demand            0\n",
      "dtype: int64\n",
      "The earliest date is: 2011/1/8\n",
      "The latest date is: 2017/1/9\n"
     ]
    }
   ],
   "execution_count": 263
  },
  {
   "metadata": {
    "ExecuteTime": {
     "end_time": "2024-04-20T14:03:14.274323Z",
     "start_time": "2024-04-20T14:03:14.184409Z"
    }
   },
   "cell_type": "code",
   "source": "demand_df.info()",
   "id": "9ae72d2f4e4d6a18",
   "outputs": [
    {
     "name": "stdout",
     "output_type": "stream",
     "text": [
      "<class 'pandas.core.frame.DataFrame'>\n",
      "Index: 1037336 entries, 0 to 1048574\n",
      "Data columns (total 5 columns):\n",
      " #   Column            Non-Null Count    Dtype \n",
      "---  ------            --------------    ----- \n",
      " 0   Product_Code      1037336 non-null  object\n",
      " 1   Warehouse         1037336 non-null  object\n",
      " 2   Product_Category  1037336 non-null  object\n",
      " 3   Date              1037336 non-null  object\n",
      " 4   Order_Demand      1037336 non-null  object\n",
      "dtypes: object(5)\n",
      "memory usage: 47.5+ MB\n"
     ]
    }
   ],
   "execution_count": 264
  },
  {
   "metadata": {},
   "cell_type": "markdown",
   "source": [
    "El conjunto de datos contiene cinco columnas, todas de tipo objeto, y abarca más de un millón de registros. Aquí están los detalles de las columnas:\n",
    "\n",
    "Product_Code: Código que identifica cada producto.\n",
    "Warehouse: Almacén donde se encuentra el producto.\n",
    "Product_Category: Categoría a la que pertenece el producto.\n",
    "Date: Fecha en que se registró la demanda del producto.\n",
    "Order_Demand: Demanda del producto en esa fecha, actualmente en formato de texto con espacios adicionales.\n",
    "Hay algunas observaciones clave y pasos siguientes:\n",
    "\n",
    "Convertir la columna 'Date' a tipo fecha: Actualmente es un objeto (string), y necesitamos convertirlo para manipular las fechas correctamente.\n",
    "Limpiar y convertir 'Order_Demand' a números: Los datos tienen espacios y el tipo de dato es texto, lo que requiere limpieza para análisis numéricos.\n",
    "Tratar los valores faltantes: Específicamente en la columna 'Date', donde hay algunas entradas faltantes.\n",
    "Revisar y manejar valores atípicos o errores en los datos."
   ],
   "id": "5a4ca02272cab5dc"
  },
  {
   "metadata": {
    "ExecuteTime": {
     "end_time": "2024-04-20T14:03:14.904737Z",
     "start_time": "2024-04-20T14:03:14.275326Z"
    }
   },
   "cell_type": "code",
   "source": [
    "#Before we can begin visualizing, a few changes need to occur, like data types and groupings\n",
    "#This will allow our visuals to populate quicker\n",
    "\n",
    "#Make sure Order_demand is read in as a numeric datatype\n",
    "print(demand_df['Order_Demand'].dtypes)\n",
    "\n",
    "#Need to change the date to a date datatype from an object\n",
    "demand_df['Date'] = pd.to_datetime(demand_df['Date'])\n",
    "demand_df['Order_Demand'] = pd.to_numeric(demand_df['Order_Demand'], errors='coerce')\n",
    "\n",
    "# Eliminar filas con valores nulos\n",
    "demand_df.dropna(subset=['Date'], inplace=True)"
   ],
   "id": "50ff958a3eeb3651",
   "outputs": [
    {
     "name": "stdout",
     "output_type": "stream",
     "text": [
      "object\n"
     ]
    }
   ],
   "execution_count": 265
  },
  {
   "metadata": {
    "ExecuteTime": {
     "end_time": "2024-04-20T14:03:17.244284Z",
     "start_time": "2024-04-20T14:03:14.906738Z"
    }
   },
   "cell_type": "code",
   "source": [
    "#Finalmente Agrupando\n",
    "demand_df['Date'] = pd.to_datetime(demand_df['Date'])\n",
    "demand_df_group = demand_df.groupby(pd.Grouper(key='Date', freq='M'))['Order_Demand'].sum().reset_index()\n",
    "\n",
    "#Graficar el nuevo conjunto de datos\n",
    "sns.set_style(\"whitegrid\") #Establecer el estilo\n",
    "plt.figure(figsize=(10, 6))\n",
    "sns.lineplot(data=demand_df_group, x='Date', y='Order_Demand', color = '#18B15A')\n",
    "plt.title('Demanda de Pedidos a lo Largo del Tiempo')\n",
    "plt.xlabel('Fecha')\n",
    "plt.ylabel('Demanda Total de Pedidos')\n",
    "plt.show()\n",
    "\n",
    "#Ahora que vemos el gráfico general, notamos que cualquier fecha anterior a 2012 va a ser irrelevante. Podemos eliminar estos valores\n",
    "print(demand_df.head())\n",
    "\n",
    "#Ahora que vemos el gráfico general, notamos que cualquier fecha anterior a 2012 va a ser irrelevante. Podemos eliminar estos valores\n",
    "demand_df = demand_df[demand_df['Date']>'2011-12-31']\n",
    "#Tambien podemos ver que hay un valor atípico en 2012, que es mucho más alto que los demás. Podemos eliminar este valor atípico\n",
    "demand_df = demand_df[demand_df['Order_Demand']<100000]\n",
    "# Tambien podemos ver que los datos de 2017 son incompletos, por lo que podemos eliminar estos valores\n",
    "demand_df = demand_df[demand_df['Date']<'2017-01-01']\n",
    "\n",
    "#Veamos cómo se ve esto agrupado por almacén, para entender cuál de nuestros almacenes recibe más demanda\n",
    "demand_df_group_warehouse = demand_df.groupby(['Date', 'Warehouse'])['Order_Demand'].sum().reset_index()\n",
    "\n",
    "#Graficar esto ahora con facetas\n",
    "#Descubrí que necesito usar sns.relplot, ya que lineplot no maneja bien las facetas\n",
    "g = sns.relplot(data=demand_df_group_warehouse, \n",
    "                x='Date', \n",
    "                y='Order_Demand', \n",
    "                kind=\"line\",\n",
    "                hue='Warehouse',\n",
    "                palette=[\"#EF9A9A\", \"#673AB7\", \"#039BE5\", \"#FB8C00\"],\n",
    "                col='Warehouse',  # Facetar por 'Warehouse'\n",
    "                col_wrap=2,  \n",
    "                height=3, aspect=1.5)\n",
    "plt.show()"
   ],
   "id": "6bb10807ac751fbd",
   "outputs": [
    {
     "data": {
      "text/plain": [
       "<Figure size 1000x600 with 1 Axes>"
      ],
      "image/png": "[encoded data removed]"
     },
     "metadata": {},
     "output_type": "display_data"
    },
    {
     "name": "stdout",
     "output_type": "stream",
     "text": [
      "   Product_Code Warehouse Product_Category       Date  Order_Demand\n",
      "0  Product_0993    Whse_J     Category_028 2012-07-27         100.0\n",
      "1  Product_0979    Whse_J     Category_028 2012-01-19         500.0\n",
      "2  Product_0979    Whse_J     Category_028 2012-02-03         500.0\n",
      "3  Product_0979    Whse_J     Category_028 2012-02-09         500.0\n",
      "4  Product_0979    Whse_J     Category_028 2012-03-02         500.0\n"
     ]
    },
    {
     "name": "stderr",
     "output_type": "stream",
     "text": [
      "C:\\Users\\jesus\\anaconda3\\Lib\\site-packages\\seaborn\\axisgrid.py:118: UserWarning: The figure layout has changed to tight\n",
      "  self._figure.tight_layout(*args, **kwargs)\n"
     ]
    },
    {
     "data": {
      "text/plain": [
       "<Figure size 1003.38x600 with 4 Axes>"
      ],
      "image/png": "[encoded data removed]"
     },
     "metadata": {},
     "output_type": "display_data"
    }
   ],
   "execution_count": 266
  },
  {
   "metadata": {
    "ExecuteTime": {
     "end_time": "2024-04-20T14:03:17.308104Z",
     "start_time": "2024-04-20T14:03:17.245287Z"
    }
   },
   "cell_type": "code",
   "source": [
    "#Ahora que hemos limpiado los datos, podemos comenzar a analizarlos\n",
    "#Primero, veamos cuántos productos únicos hay en el conjunto de datos\n",
    "unique_products = demand_df['Product_Code'].nunique()\n",
    "print(f'Hay {unique_products} productos únicos en el conjunto de datos')\n"
   ],
   "id": "7cb104eefb938fb2",
   "outputs": [
    {
     "name": "stdout",
     "output_type": "stream",
     "text": [
      "Hay 2160 productos únicos en el conjunto de datos\n"
     ]
    }
   ],
   "execution_count": 267
  },
  {
   "metadata": {
    "ExecuteTime": {
     "end_time": "2024-04-20T14:03:17.360385Z",
     "start_time": "2024-04-20T14:03:17.309108Z"
    }
   },
   "cell_type": "code",
   "source": [
    "#Ahora, veamos cuántas categorías únicas hay en el conjunto de datos\n",
    "demand_df['Product_Category'].value_counts()\n"
   ],
   "id": "2c62a088de9156d9",
   "outputs": [
    {
     "data": {
      "text/plain": [
       "Product_Category\n",
       "Category_019    461172\n",
       "Category_005    101176\n",
       "Category_001     97120\n",
       "Category_007     81117\n",
       "Category_021     51297\n",
       "Category_006     34647\n",
       "Category_028     30686\n",
       "Category_011     23073\n",
       "Category_015     22606\n",
       "Category_024     20536\n",
       "Category_009     19383\n",
       "Category_026     14678\n",
       "Category_030     12940\n",
       "Category_032      9248\n",
       "Category_022      8526\n",
       "Category_023      7834\n",
       "Category_018      5190\n",
       "Category_003      4168\n",
       "Category_013      3676\n",
       "Category_020      3415\n",
       "Category_031      2247\n",
       "Category_033      1756\n",
       "Category_008      1546\n",
       "Category_012      1120\n",
       "Category_010       948\n",
       "Category_029       645\n",
       "Category_017       603\n",
       "Category_004       322\n",
       "Category_002        76\n",
       "Category_016        37\n",
       "Category_025        35\n",
       "Category_014        26\n",
       "Category_027        22\n",
       "Name: count, dtype: int64"
      ]
     },
     "execution_count": 268,
     "metadata": {},
     "output_type": "execute_result"
    }
   ],
   "execution_count": 268
  },
  {
   "metadata": {
    "ExecuteTime": {
     "end_time": "2024-04-20T14:03:17.438361Z",
     "start_time": "2024-04-20T14:03:17.361389Z"
    }
   },
   "cell_type": "code",
   "source": "demand_df.info()",
   "id": "ae065ddc45667bb6",
   "outputs": [
    {
     "name": "stdout",
     "output_type": "stream",
     "text": [
      "<class 'pandas.core.frame.DataFrame'>\n",
      "Index: 1021871 entries, 0 to 1048574\n",
      "Data columns (total 5 columns):\n",
      " #   Column            Non-Null Count    Dtype         \n",
      "---  ------            --------------    -----         \n",
      " 0   Product_Code      1021871 non-null  object        \n",
      " 1   Warehouse         1021871 non-null  object        \n",
      " 2   Product_Category  1021871 non-null  object        \n",
      " 3   Date              1021871 non-null  datetime64[ns]\n",
      " 4   Order_Demand      1021871 non-null  float64       \n",
      "dtypes: datetime64[ns](1), float64(1), object(3)\n",
      "memory usage: 46.8+ MB\n"
     ]
    }
   ],
   "execution_count": 269
  },
  {
   "metadata": {
    "ExecuteTime": {
     "end_time": "2024-04-20T14:03:17.444559Z",
     "start_time": "2024-04-20T14:03:17.439363Z"
    }
   },
   "cell_type": "code",
   "source": "demand_df['storage'] = 0 ",
   "id": "d2a9a181b632c3d0",
   "outputs": [],
   "execution_count": 270
  },
  {
   "cell_type": "code",
   "source": [
    "NaN = demand_df.isna().sum()\n",
    "display(NaN)"
   ],
   "metadata": {
    "collapsed": false,
    "ExecuteTime": {
     "end_time": "2024-04-20T14:03:17.527687Z",
     "start_time": "2024-04-20T14:03:17.445561Z"
    }
   },
   "id": "e4544a5fe2a74387",
   "outputs": [
    {
     "data": {
      "text/plain": [
       "Product_Code        0\n",
       "Warehouse           0\n",
       "Product_Category    0\n",
       "Date                0\n",
       "Order_Demand        0\n",
       "storage             0\n",
       "dtype: int64"
      ]
     },
     "metadata": {},
     "output_type": "display_data"
    }
   ],
   "execution_count": 271
  },
  {
   "metadata": {
    "ExecuteTime": {
     "end_time": "2024-04-20T14:03:18.145833Z",
     "start_time": "2024-04-20T14:03:17.530691Z"
    }
   },
   "cell_type": "code",
   "source": [
    "#Encontrar valores duplicados\n",
    "display(demand_df.duplicated().sum())\n",
    "demand_df.drop_duplicates(inplace=True)\n",
    "display(demand_df.duplicated().sum())"
   ],
   "id": "8bb854cdbebdf93a",
   "outputs": [
    {
     "data": {
      "text/plain": [
       "112577"
      ]
     },
     "metadata": {},
     "output_type": "display_data"
    },
    {
     "data": {
      "text/plain": [
       "0"
      ]
     },
     "metadata": {},
     "output_type": "display_data"
    }
   ],
   "execution_count": 272
  },
  {
   "metadata": {
    "ExecuteTime": {
     "end_time": "2024-04-20T14:03:18.180450Z",
     "start_time": "2024-04-20T14:03:18.145833Z"
    }
   },
   "cell_type": "code",
   "source": [
    "# 1. Reemplazar los nombres de las columnas\n",
    "demand_df.columns = demand_df.columns.str.lower().str.replace(\" \", \"_\")\n",
    "\n",
    "# 2. Convertir los datos a los tipos necesarios\n",
    "demand_df['date'] = pd.to_datetime(demand_df['date'])\n",
    "demand_df['order_Demand'] = pd.to_numeric(demand_df['order_demand'], errors='coerce')\n"
   ],
   "id": "170f3b813249fc5d",
   "outputs": [],
   "execution_count": 273
  },
  {
   "metadata": {
    "ExecuteTime": {
     "end_time": "2024-04-20T14:03:18.284998Z",
     "start_time": "2024-04-20T14:03:18.181453Z"
    }
   },
   "cell_type": "code",
   "source": [
    "# 2. Convertir los datos a los tipos necesarios\n",
    "demand_df['date'] = pd.to_datetime(demand_df['date'])\n",
    "demand_df['order_Demand'] = pd.to_numeric(demand_df['order_demand'], errors='coerce')\n",
    "# Crear nuevas columnas para la semana, el mes y el año\n",
    "demand_df['week'] = demand_df['date'].dt.isocalendar().week\n",
    "demand_df['month'] = demand_df['date'].dt.month\n",
    "demand_df['year'] = demand_df['date'].dt.year"
   ],
   "id": "2fa21acb985f60eb",
   "outputs": [],
   "execution_count": 274
  },
  {
   "metadata": {
    "ExecuteTime": {
     "end_time": "2024-04-20T14:03:18.289275Z",
     "start_time": "2024-04-20T14:03:18.284998Z"
    }
   },
   "cell_type": "code",
   "source": [
    "import pandas as pd\n",
    "\n",
    "# Suponiendo que 'demand_df' es tu DataFrame original\n",
    "\n",
    "# Función para convertir los nombres de las columnas a snake_case si son de tipo texto\n",
    "def to_snake_case(name):\n",
    "    # Reemplazar espacios y guiones con guiones bajos y convertir a minúsculas\n",
    "    return name.replace(' ', '_').replace('-', '_').lower()\n",
    "\n",
    "# Aplicar la función solo a las columnas de tipo texto\n",
    "demand_df.columns = [to_snake_case(col) if demand_df[col].dtype == 'object' else col for col in demand_df.columns]\n"
   ],
   "id": "11269dce18863b30",
   "outputs": [],
   "execution_count": 275
  },
  {
   "metadata": {
    "ExecuteTime": {
     "end_time": "2024-04-20T14:03:18.356568Z",
     "start_time": "2024-04-20T14:03:18.289275Z"
    }
   },
   "cell_type": "code",
   "source": [
    "demand_df['warehouse'].unique()\n",
    "demand_df['product_code'].value_counts()"
   ],
   "id": "a436b8433634c9a0",
   "outputs": [
    {
     "data": {
      "text/plain": [
       "product_code\n",
       "Product_1359    9802\n",
       "Product_1295    7133\n",
       "Product_1378    6742\n",
       "Product_1286    6150\n",
       "Product_1382    5992\n",
       "                ... \n",
       "Product_1698       2\n",
       "Product_1703       1\n",
       "Product_0465       1\n",
       "Product_2099       1\n",
       "Product_0853       1\n",
       "Name: count, Length: 2160, dtype: int64"
      ]
     },
     "execution_count": 276,
     "metadata": {},
     "output_type": "execute_result"
    }
   ],
   "execution_count": 276
  },
  {
   "metadata": {
    "ExecuteTime": {
     "end_time": "2024-04-20T14:03:18.787863Z",
     "start_time": "2024-04-20T14:03:18.357576Z"
    }
   },
   "cell_type": "code",
   "source": [
    "import pandas as pd\n",
    "\n",
    "# Asumiendo que 'demand_df' es tu DataFrame original\n",
    "\n",
    "# Convertir la columna 'Date' a datetime si aún no está convertida\n",
    "demand_df['date'] = pd.to_datetime(demand_df['date'])\n",
    "\n",
    "# Agrupar por 'Warehouse', 'Product_Code' y 'Date'\n",
    "grouped_df = demand_df.groupby(['warehouse', 'product_code', 'date'])['order_demand'].sum().reset_index()\n",
    "\n",
    "# Ahora 'grouped_df' contiene la demanda total agrupada por almacén, código de producto y fecha\n",
    "print(grouped_df.info())\n",
    "print()\n",
    "print(grouped_df)\n"
   ],
   "id": "a34d7db3ec90631d",
   "outputs": [
    {
     "name": "stdout",
     "output_type": "stream",
     "text": [
      "<class 'pandas.core.frame.DataFrame'>\n",
      "RangeIndex: 627829 entries, 0 to 627828\n",
      "Data columns (total 4 columns):\n",
      " #   Column        Non-Null Count   Dtype         \n",
      "---  ------        --------------   -----         \n",
      " 0   warehouse     627829 non-null  object        \n",
      " 1   product_code  627829 non-null  object        \n",
      " 2   date          627829 non-null  datetime64[ns]\n",
      " 3   order_demand  627829 non-null  float64       \n",
      "dtypes: datetime64[ns](1), float64(1), object(2)\n",
      "memory usage: 19.2+ MB\n",
      "None\n",
      "\n",
      "       warehouse  product_code       date  order_demand\n",
      "0         Whse_A  Product_0001 2012-01-03        1000.0\n",
      "1         Whse_A  Product_0001 2012-01-04         200.0\n",
      "2         Whse_A  Product_0001 2012-01-09        2000.0\n",
      "3         Whse_A  Product_0001 2012-01-10        3000.0\n",
      "4         Whse_A  Product_0001 2012-01-30         200.0\n",
      "...          ...           ...        ...           ...\n",
      "627824    Whse_S  Product_2169 2015-12-16          22.0\n",
      "627825    Whse_S  Product_2169 2015-12-29         400.0\n",
      "627826    Whse_S  Product_2169 2016-01-29           2.0\n",
      "627827    Whse_S  Product_2169 2016-10-10          25.0\n",
      "627828    Whse_S  Product_2169 2016-11-30          25.0\n",
      "\n",
      "[627829 rows x 4 columns]\n"
     ]
    }
   ],
   "execution_count": 277
  },
  {
   "metadata": {
    "ExecuteTime": {
     "end_time": "2024-04-20T14:03:19.400921Z",
     "start_time": "2024-04-20T14:03:18.787863Z"
    }
   },
   "cell_type": "code",
   "source": [
    "\n",
    "# Asumiendo que 'demand_df' es tu DataFrame original\n",
    "\n",
    "# Cambiar la columna 'date' a tipo datetime\n",
    "demand_df['date'] = pd.to_datetime(demand_df['date'])\n",
    "\n",
    "# Crear columnas para la semana, el mes y el año antes de agrupar\n",
    "demand_df['week'] = demand_df['date'].dt.isocalendar().week\n",
    "demand_df['month'] = demand_df['date'].dt.month\n",
    "demand_df['year'] = demand_df['date'].dt.year\n",
    "\n",
    "# Agrupar por 'warehouse', 'product_code', 'year', 'month', 'week', y 'date', y sumar la 'order_demand'\n",
    "grouped_df = demand_df.groupby(['warehouse', 'product_code', 'year', 'month', 'week', 'date'])['order_demand'].sum().reset_index()\n",
    "\n",
    "# Ordenar los resultados por 'date' dentro de cada 'warehouse'\n",
    "grouped_df_sorted = grouped_df.sort_values(by=['warehouse', 'date'])\n",
    "\n",
    "# Crear DataFrames individuales para cada almacén\n",
    "df_whse_j = grouped_df_sorted[grouped_df_sorted['warehouse'] == 'Whse_J']\n",
    "df_whse_s = grouped_df_sorted[grouped_df_sorted['warehouse'] == 'Whse_S']\n",
    "df_whse_c = grouped_df_sorted[grouped_df_sorted['warehouse'] == 'Whse_C']\n",
    "df_whse_a = grouped_df_sorted[grouped_df_sorted['warehouse'] == 'Whse_A']\n",
    "\n",
    "# Ahora cada almacén tiene su propio DataFrame, ordenado por fecha y con columnas para 'year', 'month', 'week'\n"
   ],
   "id": "44c86ddfbc3c2f66",
   "outputs": [],
   "execution_count": 278
  },
  {
   "metadata": {
    "ExecuteTime": {
     "end_time": "2024-04-20T14:03:19.411188Z",
     "start_time": "2024-04-20T14:03:19.400921Z"
    }
   },
   "cell_type": "code",
   "source": "df_whse_j.head(40)",
   "id": "b8fad1821aa92e45",
   "outputs": [
    {
     "data": {
      "text/plain": [
       "       warehouse  product_code  year  month  week       date  order_demand\n",
       "315219    Whse_J  Product_1056  2012      1     1 2012-01-04         120.0\n",
       "127771    Whse_J  Product_0001  2012      1     1 2012-01-05         100.0\n",
       "129100    Whse_J  Product_0008  2012      1     1 2012-01-05        3000.0\n",
       "129696    Whse_J  Product_0011  2012      1     1 2012-01-05        1200.0\n",
       "130644    Whse_J  Product_0012  2012      1     1 2012-01-05        1000.0\n",
       "132241    Whse_J  Product_0015  2012      1     1 2012-01-05        1000.0\n",
       "132363    Whse_J  Product_0016  2012      1     1 2012-01-05         100.0\n",
       "133482    Whse_J  Product_0017  2012      1     1 2012-01-05         200.0\n",
       "134197    Whse_J  Product_0018  2012      1     1 2012-01-05         100.0\n",
       "136012    Whse_J  Product_0020  2012      1     1 2012-01-05        1100.0\n",
       "138494    Whse_J  Product_0025  2012      1     1 2012-01-05        1600.0\n",
       "139882    Whse_J  Product_0027  2012      1     1 2012-01-05          50.0\n",
       "140683    Whse_J  Product_0031  2012      1     1 2012-01-05        3300.0\n",
       "142211    Whse_J  Product_0033  2012      1     1 2012-01-05        3500.0\n",
       "144612    Whse_J  Product_0036  2012      1     1 2012-01-05        2000.0\n",
       "145114    Whse_J  Product_0037  2012      1     1 2012-01-05        2000.0\n",
       "145407    Whse_J  Product_0039  2012      1     1 2012-01-05         200.0\n",
       "146251    Whse_J  Product_0047  2012      1     1 2012-01-05         400.0\n",
       "146886    Whse_J  Product_0050  2012      1     1 2012-01-05         100.0\n",
       "147132    Whse_J  Product_0051  2012      1     1 2012-01-05         500.0\n",
       "152290    Whse_J  Product_0074  2012      1     1 2012-01-05        1000.0\n",
       "152609    Whse_J  Product_0079  2012      1     1 2012-01-05       10000.0\n",
       "153730    Whse_J  Product_0083  2012      1     1 2012-01-05       10000.0\n",
       "156188    Whse_J  Product_0093  2012      1     1 2012-01-05        5000.0\n",
       "156425    Whse_J  Product_0095  2012      1     1 2012-01-05        5000.0\n",
       "157001    Whse_J  Product_0099  2012      1     1 2012-01-05        5000.0\n",
       "157213    Whse_J  Product_0101  2012      1     1 2012-01-05        1300.0\n",
       "157853    Whse_J  Product_0104  2012      1     1 2012-01-05          30.0\n",
       "159215    Whse_J  Product_0113  2012      1     1 2012-01-05        1000.0\n",
       "159541    Whse_J  Product_0117  2012      1     1 2012-01-05          36.0\n",
       "160445    Whse_J  Product_0127  2012      1     1 2012-01-05        1000.0\n",
       "161592    Whse_J  Product_0139  2012      1     1 2012-01-05          56.0\n",
       "162310    Whse_J  Product_0140  2012      1     1 2012-01-05         168.0\n",
       "163348    Whse_J  Product_0150  2012      1     1 2012-01-05           5.0\n",
       "163590    Whse_J  Product_0156  2012      1     1 2012-01-05          10.0\n",
       "164472    Whse_J  Product_0161  2012      1     1 2012-01-05           1.0\n",
       "165835    Whse_J  Product_0174  2012      1     1 2012-01-05         100.0\n",
       "166574    Whse_J  Product_0178  2012      1     1 2012-01-05        1040.0\n",
       "167802    Whse_J  Product_0180  2012      1     1 2012-01-05          34.0\n",
       "169273    Whse_J  Product_0185  2012      1     1 2012-01-05        1000.0"
      ],
      "text/html": [
       "<div>\n",
       "<style scoped>\n",
       "    .dataframe tbody tr th:only-of-type {\n",
       "        vertical-align: middle;\n",
       "    }\n",
       "\n",
       "    .dataframe tbody tr th {\n",
       "        vertical-align: top;\n",
       "    }\n",
       "\n",
       "    .dataframe thead th {\n",
       "        text-align: right;\n",
       "    }\n",
       "</style>\n",
       "<table border=\"1\" class=\"dataframe\">\n",
       "  <thead>\n",
       "    <tr style=\"text-align: right;\">\n",
       "      <th></th>\n",
       "      <th>warehouse</th>\n",
       "      <th>product_code</th>\n",
       "      <th>year</th>\n",
       "      <th>month</th>\n",
       "      <th>week</th>\n",
       "      <th>date</th>\n",
       "      <th>order_demand</th>\n",
       "    </tr>\n",
       "  </thead>\n",
       "  <tbody>\n",
       "    <tr>\n",
       "      <th>315219</th>\n",
       "      <td>Whse_J</td>\n",
       "      <td>Product_1056</td>\n",
       "      <td>2012</td>\n",
       "      <td>1</td>\n",
       "      <td>1</td>\n",
       "      <td>2012-01-04</td>\n",
       "      <td>120.0</td>\n",
       "    </tr>\n",
       "    <tr>\n",
       "      <th>127771</th>\n",
       "      <td>Whse_J</td>\n",
       "      <td>Product_0001</td>\n",
       "      <td>2012</td>\n",
       "      <td>1</td>\n",
       "      <td>1</td>\n",
       "      <td>2012-01-05</td>\n",
       "      <td>100.0</td>\n",
       "    </tr>\n",
       "    <tr>\n",
       "      <th>129100</th>\n",
       "      <td>Whse_J</td>\n",
       "      <td>Product_0008</td>\n",
       "      <td>2012</td>\n",
       "      <td>1</td>\n",
       "      <td>1</td>\n",
       "      <td>2012-01-05</td>\n",
       "      <td>3000.0</td>\n",
       "    </tr>\n",
       "    <tr>\n",
       "      <th>129696</th>\n",
       "      <td>Whse_J</td>\n",
       "      <td>Product_0011</td>\n",
       "      <td>2012</td>\n",
       "      <td>1</td>\n",
       "      <td>1</td>\n",
       "      <td>2012-01-05</td>\n",
       "      <td>1200.0</td>\n",
       "    </tr>\n",
       "    <tr>\n",
       "      <th>130644</th>\n",
       "      <td>Whse_J</td>\n",
       "      <td>Product_0012</td>\n",
       "      <td>2012</td>\n",
       "      <td>1</td>\n",
       "      <td>1</td>\n",
       "      <td>2012-01-05</td>\n",
       "      <td>1000.0</td>\n",
       "    </tr>\n",
       "    <tr>\n",
       "      <th>132241</th>\n",
       "      <td>Whse_J</td>\n",
       "      <td>Product_0015</td>\n",
       "      <td>2012</td>\n",
       "      <td>1</td>\n",
       "      <td>1</td>\n",
       "      <td>2012-01-05</td>\n",
       "      <td>1000.0</td>\n",
       "    </tr>\n",
       "    <tr>\n",
       "      <th>132363</th>\n",
       "      <td>Whse_J</td>\n",
       "      <td>Product_0016</td>\n",
       "      <td>2012</td>\n",
       "      <td>1</td>\n",
       "      <td>1</td>\n",
       "      <td>2012-01-05</td>\n",
       "      <td>100.0</td>\n",
       "    </tr>\n",
       "    <tr>\n",
       "      <th>133482</th>\n",
       "      <td>Whse_J</td>\n",
       "      <td>Product_0017</td>\n",
       "      <td>2012</td>\n",
       "      <td>1</td>\n",
       "      <td>1</td>\n",
       "      <td>2012-01-05</td>\n",
       "      <td>200.0</td>\n",
       "    </tr>\n",
       "    <tr>\n",
       "      <th>134197</th>\n",
       "      <td>Whse_J</td>\n",
       "      <td>Product_0018</td>\n",
       "      <td>2012</td>\n",
       "      <td>1</td>\n",
       "      <td>1</td>\n",
       "      <td>2012-01-05</td>\n",
       "      <td>100.0</td>\n",
       "    </tr>\n",
       "    <tr>\n",
       "      <th>136012</th>\n",
       "      <td>Whse_J</td>\n",
       "      <td>Product_0020</td>\n",
       "      <td>2012</td>\n",
       "      <td>1</td>\n",
       "      <td>1</td>\n",
       "      <td>2012-01-05</td>\n",
       "      <td>1100.0</td>\n",
       "    </tr>\n",
       "    <tr>\n",
       "      <th>138494</th>\n",
       "      <td>Whse_J</td>\n",
       "      <td>Product_0025</td>\n",
       "      <td>2012</td>\n",
       "      <td>1</td>\n",
       "      <td>1</td>\n",
       "      <td>2012-01-05</td>\n",
       "      <td>1600.0</td>\n",
       "    </tr>\n",
       "    <tr>\n",
       "      <th>139882</th>\n",
       "      <td>Whse_J</td>\n",
       "      <td>Product_0027</td>\n",
       "      <td>2012</td>\n",
       "      <td>1</td>\n",
       "      <td>1</td>\n",
       "      <td>2012-01-05</td>\n",
       "      <td>50.0</td>\n",
       "    </tr>\n",
       "    <tr>\n",
       "      <th>140683</th>\n",
       "      <td>Whse_J</td>\n",
       "      <td>Product_0031</td>\n",
       "      <td>2012</td>\n",
       "      <td>1</td>\n",
       "      <td>1</td>\n",
       "      <td>2012-01-05</td>\n",
       "      <td>3300.0</td>\n",
       "    </tr>\n",
       "    <tr>\n",
       "      <th>142211</th>\n",
       "      <td>Whse_J</td>\n",
       "      <td>Product_0033</td>\n",
       "      <td>2012</td>\n",
       "      <td>1</td>\n",
       "      <td>1</td>\n",
       "      <td>2012-01-05</td>\n",
       "      <td>3500.0</td>\n",
       "    </tr>\n",
       "    <tr>\n",
       "      <th>144612</th>\n",
       "      <td>Whse_J</td>\n",
       "      <td>Product_0036</td>\n",
       "      <td>2012</td>\n",
       "      <td>1</td>\n",
       "      <td>1</td>\n",
       "      <td>2012-01-05</td>\n",
       "      <td>2000.0</td>\n",
       "    </tr>\n",
       "    <tr>\n",
       "      <th>145114</th>\n",
       "      <td>Whse_J</td>\n",
       "      <td>Product_0037</td>\n",
       "      <td>2012</td>\n",
       "      <td>1</td>\n",
       "      <td>1</td>\n",
       "      <td>2012-01-05</td>\n",
       "      <td>2000.0</td>\n",
       "    </tr>\n",
       "    <tr>\n",
       "      <th>145407</th>\n",
       "      <td>Whse_J</td>\n",
       "      <td>Product_0039</td>\n",
       "      <td>2012</td>\n",
       "      <td>1</td>\n",
       "      <td>1</td>\n",
       "      <td>2012-01-05</td>\n",
       "      <td>200.0</td>\n",
       "    </tr>\n",
       "    <tr>\n",
       "      <th>146251</th>\n",
       "      <td>Whse_J</td>\n",
       "      <td>Product_0047</td>\n",
       "      <td>2012</td>\n",
       "      <td>1</td>\n",
       "      <td>1</td>\n",
       "      <td>2012-01-05</td>\n",
       "      <td>400.0</td>\n",
       "    </tr>\n",
       "    <tr>\n",
       "      <th>146886</th>\n",
       "      <td>Whse_J</td>\n",
       "      <td>Product_0050</td>\n",
       "      <td>2012</td>\n",
       "      <td>1</td>\n",
       "      <td>1</td>\n",
       "      <td>2012-01-05</td>\n",
       "      <td>100.0</td>\n",
       "    </tr>\n",
       "    <tr>\n",
       "      <th>147132</th>\n",
       "      <td>Whse_J</td>\n",
       "      <td>Product_0051</td>\n",
       "      <td>2012</td>\n",
       "      <td>1</td>\n",
       "      <td>1</td>\n",
       "      <td>2012-01-05</td>\n",
       "      <td>500.0</td>\n",
       "    </tr>\n",
       "    <tr>\n",
       "      <th>152290</th>\n",
       "      <td>Whse_J</td>\n",
       "      <td>Product_0074</td>\n",
       "      <td>2012</td>\n",
       "      <td>1</td>\n",
       "      <td>1</td>\n",
       "      <td>2012-01-05</td>\n",
       "      <td>1000.0</td>\n",
       "    </tr>\n",
       "    <tr>\n",
       "      <th>152609</th>\n",
       "      <td>Whse_J</td>\n",
       "      <td>Product_0079</td>\n",
       "      <td>2012</td>\n",
       "      <td>1</td>\n",
       "      <td>1</td>\n",
       "      <td>2012-01-05</td>\n",
       "      <td>10000.0</td>\n",
       "    </tr>\n",
       "    <tr>\n",
       "      <th>153730</th>\n",
       "      <td>Whse_J</td>\n",
       "      <td>Product_0083</td>\n",
       "      <td>2012</td>\n",
       "      <td>1</td>\n",
       "      <td>1</td>\n",
       "      <td>2012-01-05</td>\n",
       "      <td>10000.0</td>\n",
       "    </tr>\n",
       "    <tr>\n",
       "      <th>156188</th>\n",
       "      <td>Whse_J</td>\n",
       "      <td>Product_0093</td>\n",
       "      <td>2012</td>\n",
       "      <td>1</td>\n",
       "      <td>1</td>\n",
       "      <td>2012-01-05</td>\n",
       "      <td>5000.0</td>\n",
       "    </tr>\n",
       "    <tr>\n",
       "      <th>156425</th>\n",
       "      <td>Whse_J</td>\n",
       "      <td>Product_0095</td>\n",
       "      <td>2012</td>\n",
       "      <td>1</td>\n",
       "      <td>1</td>\n",
       "      <td>2012-01-05</td>\n",
       "      <td>5000.0</td>\n",
       "    </tr>\n",
       "    <tr>\n",
       "      <th>157001</th>\n",
       "      <td>Whse_J</td>\n",
       "      <td>Product_0099</td>\n",
       "      <td>2012</td>\n",
       "      <td>1</td>\n",
       "      <td>1</td>\n",
       "      <td>2012-01-05</td>\n",
       "      <td>5000.0</td>\n",
       "    </tr>\n",
       "    <tr>\n",
       "      <th>157213</th>\n",
       "      <td>Whse_J</td>\n",
       "      <td>Product_0101</td>\n",
       "      <td>2012</td>\n",
       "      <td>1</td>\n",
       "      <td>1</td>\n",
       "      <td>2012-01-05</td>\n",
       "      <td>1300.0</td>\n",
       "    </tr>\n",
       "    <tr>\n",
       "      <th>157853</th>\n",
       "      <td>Whse_J</td>\n",
       "      <td>Product_0104</td>\n",
       "      <td>2012</td>\n",
       "      <td>1</td>\n",
       "      <td>1</td>\n",
       "      <td>2012-01-05</td>\n",
       "      <td>30.0</td>\n",
       "    </tr>\n",
       "    <tr>\n",
       "      <th>159215</th>\n",
       "      <td>Whse_J</td>\n",
       "      <td>Product_0113</td>\n",
       "      <td>2012</td>\n",
       "      <td>1</td>\n",
       "      <td>1</td>\n",
       "      <td>2012-01-05</td>\n",
       "      <td>1000.0</td>\n",
       "    </tr>\n",
       "    <tr>\n",
       "      <th>159541</th>\n",
       "      <td>Whse_J</td>\n",
       "      <td>Product_0117</td>\n",
       "      <td>2012</td>\n",
       "      <td>1</td>\n",
       "      <td>1</td>\n",
       "      <td>2012-01-05</td>\n",
       "      <td>36.0</td>\n",
       "    </tr>\n",
       "    <tr>\n",
       "      <th>160445</th>\n",
       "      <td>Whse_J</td>\n",
       "      <td>Product_0127</td>\n",
       "      <td>2012</td>\n",
       "      <td>1</td>\n",
       "      <td>1</td>\n",
       "      <td>2012-01-05</td>\n",
       "      <td>1000.0</td>\n",
       "    </tr>\n",
       "    <tr>\n",
       "      <th>161592</th>\n",
       "      <td>Whse_J</td>\n",
       "      <td>Product_0139</td>\n",
       "      <td>2012</td>\n",
       "      <td>1</td>\n",
       "      <td>1</td>\n",
       "      <td>2012-01-05</td>\n",
       "      <td>56.0</td>\n",
       "    </tr>\n",
       "    <tr>\n",
       "      <th>162310</th>\n",
       "      <td>Whse_J</td>\n",
       "      <td>Product_0140</td>\n",
       "      <td>2012</td>\n",
       "      <td>1</td>\n",
       "      <td>1</td>\n",
       "      <td>2012-01-05</td>\n",
       "      <td>168.0</td>\n",
       "    </tr>\n",
       "    <tr>\n",
       "      <th>163348</th>\n",
       "      <td>Whse_J</td>\n",
       "      <td>Product_0150</td>\n",
       "      <td>2012</td>\n",
       "      <td>1</td>\n",
       "      <td>1</td>\n",
       "      <td>2012-01-05</td>\n",
       "      <td>5.0</td>\n",
       "    </tr>\n",
       "    <tr>\n",
       "      <th>163590</th>\n",
       "      <td>Whse_J</td>\n",
       "      <td>Product_0156</td>\n",
       "      <td>2012</td>\n",
       "      <td>1</td>\n",
       "      <td>1</td>\n",
       "      <td>2012-01-05</td>\n",
       "      <td>10.0</td>\n",
       "    </tr>\n",
       "    <tr>\n",
       "      <th>164472</th>\n",
       "      <td>Whse_J</td>\n",
       "      <td>Product_0161</td>\n",
       "      <td>2012</td>\n",
       "      <td>1</td>\n",
       "      <td>1</td>\n",
       "      <td>2012-01-05</td>\n",
       "      <td>1.0</td>\n",
       "    </tr>\n",
       "    <tr>\n",
       "      <th>165835</th>\n",
       "      <td>Whse_J</td>\n",
       "      <td>Product_0174</td>\n",
       "      <td>2012</td>\n",
       "      <td>1</td>\n",
       "      <td>1</td>\n",
       "      <td>2012-01-05</td>\n",
       "      <td>100.0</td>\n",
       "    </tr>\n",
       "    <tr>\n",
       "      <th>166574</th>\n",
       "      <td>Whse_J</td>\n",
       "      <td>Product_0178</td>\n",
       "      <td>2012</td>\n",
       "      <td>1</td>\n",
       "      <td>1</td>\n",
       "      <td>2012-01-05</td>\n",
       "      <td>1040.0</td>\n",
       "    </tr>\n",
       "    <tr>\n",
       "      <th>167802</th>\n",
       "      <td>Whse_J</td>\n",
       "      <td>Product_0180</td>\n",
       "      <td>2012</td>\n",
       "      <td>1</td>\n",
       "      <td>1</td>\n",
       "      <td>2012-01-05</td>\n",
       "      <td>34.0</td>\n",
       "    </tr>\n",
       "    <tr>\n",
       "      <th>169273</th>\n",
       "      <td>Whse_J</td>\n",
       "      <td>Product_0185</td>\n",
       "      <td>2012</td>\n",
       "      <td>1</td>\n",
       "      <td>1</td>\n",
       "      <td>2012-01-05</td>\n",
       "      <td>1000.0</td>\n",
       "    </tr>\n",
       "  </tbody>\n",
       "</table>\n",
       "</div>"
      ]
     },
     "execution_count": 279,
     "metadata": {},
     "output_type": "execute_result"
    }
   ],
   "execution_count": 279
  },
  {
   "metadata": {
    "ExecuteTime": {
     "end_time": "2024-04-20T14:03:19.425297Z",
     "start_time": "2024-04-20T14:03:19.411188Z"
    }
   },
   "cell_type": "code",
   "source": "demand_df.head(30)",
   "id": "4e7819feb9717209",
   "outputs": [
    {
     "data": {
      "text/plain": [
       "    product_code warehouse product_category       date  order_demand  storage  \\\n",
       "0   Product_0993    Whse_J     Category_028 2012-07-27         100.0        0   \n",
       "1   Product_0979    Whse_J     Category_028 2012-01-19         500.0        0   \n",
       "2   Product_0979    Whse_J     Category_028 2012-02-03         500.0        0   \n",
       "3   Product_0979    Whse_J     Category_028 2012-02-09         500.0        0   \n",
       "4   Product_0979    Whse_J     Category_028 2012-03-02         500.0        0   \n",
       "5   Product_0979    Whse_J     Category_028 2012-04-19         500.0        0   \n",
       "6   Product_0979    Whse_J     Category_028 2012-06-05         500.0        0   \n",
       "7   Product_0979    Whse_J     Category_028 2012-06-27         500.0        0   \n",
       "8   Product_0979    Whse_J     Category_028 2012-07-23         500.0        0   \n",
       "9   Product_0979    Whse_J     Category_028 2012-08-29         500.0        0   \n",
       "11  Product_0979    Whse_J     Category_028 2012-09-18         500.0        0   \n",
       "12  Product_0979    Whse_J     Category_028 2012-10-11         500.0        0   \n",
       "13  Product_0979    Whse_J     Category_028 2012-11-01         500.0        0   \n",
       "14  Product_0979    Whse_J     Category_028 2012-11-29         500.0        0   \n",
       "15  Product_0979    Whse_J     Category_028 2012-12-26         500.0        0   \n",
       "16  Product_1159    Whse_J     Category_006 2012-01-06       50000.0        0   \n",
       "18  Product_1159    Whse_J     Category_006 2012-02-02       50000.0        0   \n",
       "19  Product_1159    Whse_J     Category_006 2012-02-22       50000.0        0   \n",
       "20  Product_1159    Whse_J     Category_006 2012-03-02       50000.0        0   \n",
       "21  Product_1159    Whse_J     Category_006 2012-03-09       50000.0        0   \n",
       "22  Product_1159    Whse_J     Category_006 2012-03-23       50000.0        0   \n",
       "23  Product_1159    Whse_J     Category_006 2012-04-06       50000.0        0   \n",
       "24  Product_1159    Whse_J     Category_006 2012-04-16       50000.0        0   \n",
       "25  Product_1159    Whse_J     Category_006 2012-05-07       50000.0        0   \n",
       "26  Product_1159    Whse_J     Category_006 2012-04-17       50000.0        0   \n",
       "27  Product_1159    Whse_J     Category_006 2012-05-30       50000.0        0   \n",
       "28  Product_1159    Whse_J     Category_006 2012-06-20       50000.0        0   \n",
       "29  Product_1159    Whse_J     Category_006 2012-06-29       50000.0        0   \n",
       "30  Product_1159    Whse_J     Category_006 2012-07-09       50000.0        0   \n",
       "31  Product_1159    Whse_J     Category_006 2012-07-17       50000.0        0   \n",
       "\n",
       "    order_Demand  week  month  year  \n",
       "0          100.0    30      7  2012  \n",
       "1          500.0     3      1  2012  \n",
       "2          500.0     5      2  2012  \n",
       "3          500.0     6      2  2012  \n",
       "4          500.0     9      3  2012  \n",
       "5          500.0    16      4  2012  \n",
       "6          500.0    23      6  2012  \n",
       "7          500.0    26      6  2012  \n",
       "8          500.0    30      7  2012  \n",
       "9          500.0    35      8  2012  \n",
       "11         500.0    38      9  2012  \n",
       "12         500.0    41     10  2012  \n",
       "13         500.0    44     11  2012  \n",
       "14         500.0    48     11  2012  \n",
       "15         500.0    52     12  2012  \n",
       "16       50000.0     1      1  2012  \n",
       "18       50000.0     5      2  2012  \n",
       "19       50000.0     8      2  2012  \n",
       "20       50000.0     9      3  2012  \n",
       "21       50000.0    10      3  2012  \n",
       "22       50000.0    12      3  2012  \n",
       "23       50000.0    14      4  2012  \n",
       "24       50000.0    16      4  2012  \n",
       "25       50000.0    19      5  2012  \n",
       "26       50000.0    16      4  2012  \n",
       "27       50000.0    22      5  2012  \n",
       "28       50000.0    25      6  2012  \n",
       "29       50000.0    26      6  2012  \n",
       "30       50000.0    28      7  2012  \n",
       "31       50000.0    29      7  2012  "
      ],
      "text/html": [
       "<div>\n",
       "<style scoped>\n",
       "    .dataframe tbody tr th:only-of-type {\n",
       "        vertical-align: middle;\n",
       "    }\n",
       "\n",
       "    .dataframe tbody tr th {\n",
       "        vertical-align: top;\n",
       "    }\n",
       "\n",
       "    .dataframe thead th {\n",
       "        text-align: right;\n",
       "    }\n",
       "</style>\n",
       "<table border=\"1\" class=\"dataframe\">\n",
       "  <thead>\n",
       "    <tr style=\"text-align: right;\">\n",
       "      <th></th>\n",
       "      <th>product_code</th>\n",
       "      <th>warehouse</th>\n",
       "      <th>product_category</th>\n",
       "      <th>date</th>\n",
       "      <th>order_demand</th>\n",
       "      <th>storage</th>\n",
       "      <th>order_Demand</th>\n",
       "      <th>week</th>\n",
       "      <th>month</th>\n",
       "      <th>year</th>\n",
       "    </tr>\n",
       "  </thead>\n",
       "  <tbody>\n",
       "    <tr>\n",
       "      <th>0</th>\n",
       "      <td>Product_0993</td>\n",
       "      <td>Whse_J</td>\n",
       "      <td>Category_028</td>\n",
       "      <td>2012-07-27</td>\n",
       "      <td>100.0</td>\n",
       "      <td>0</td>\n",
       "      <td>100.0</td>\n",
       "      <td>30</td>\n",
       "      <td>7</td>\n",
       "      <td>2012</td>\n",
       "    </tr>\n",
       "    <tr>\n",
       "      <th>1</th>\n",
       "      <td>Product_0979</td>\n",
       "      <td>Whse_J</td>\n",
       "      <td>Category_028</td>\n",
       "      <td>2012-01-19</td>\n",
       "      <td>500.0</td>\n",
       "      <td>0</td>\n",
       "      <td>500.0</td>\n",
       "      <td>3</td>\n",
       "      <td>1</td>\n",
       "      <td>2012</td>\n",
       "    </tr>\n",
       "    <tr>\n",
       "      <th>2</th>\n",
       "      <td>Product_0979</td>\n",
       "      <td>Whse_J</td>\n",
       "      <td>Category_028</td>\n",
       "      <td>2012-02-03</td>\n",
       "      <td>500.0</td>\n",
       "      <td>0</td>\n",
       "      <td>500.0</td>\n",
       "      <td>5</td>\n",
       "      <td>2</td>\n",
       "      <td>2012</td>\n",
       "    </tr>\n",
       "    <tr>\n",
       "      <th>3</th>\n",
       "      <td>Product_0979</td>\n",
       "      <td>Whse_J</td>\n",
       "      <td>Category_028</td>\n",
       "      <td>2012-02-09</td>\n",
       "      <td>500.0</td>\n",
       "      <td>0</td>\n",
       "      <td>500.0</td>\n",
       "      <td>6</td>\n",
       "      <td>2</td>\n",
       "      <td>2012</td>\n",
       "    </tr>\n",
       "    <tr>\n",
       "      <th>4</th>\n",
       "      <td>Product_0979</td>\n",
       "      <td>Whse_J</td>\n",
       "      <td>Category_028</td>\n",
       "      <td>2012-03-02</td>\n",
       "      <td>500.0</td>\n",
       "      <td>0</td>\n",
       "      <td>500.0</td>\n",
       "      <td>9</td>\n",
       "      <td>3</td>\n",
       "      <td>2012</td>\n",
       "    </tr>\n",
       "    <tr>\n",
       "      <th>5</th>\n",
       "      <td>Product_0979</td>\n",
       "      <td>Whse_J</td>\n",
       "      <td>Category_028</td>\n",
       "      <td>2012-04-19</td>\n",
       "      <td>500.0</td>\n",
       "      <td>0</td>\n",
       "      <td>500.0</td>\n",
       "      <td>16</td>\n",
       "      <td>4</td>\n",
       "      <td>2012</td>\n",
       "    </tr>\n",
       "    <tr>\n",
       "      <th>6</th>\n",
       "      <td>Product_0979</td>\n",
       "      <td>Whse_J</td>\n",
       "      <td>Category_028</td>\n",
       "      <td>2012-06-05</td>\n",
       "      <td>500.0</td>\n",
       "      <td>0</td>\n",
       "      <td>500.0</td>\n",
       "      <td>23</td>\n",
       "      <td>6</td>\n",
       "      <td>2012</td>\n",
       "    </tr>\n",
       "    <tr>\n",
       "      <th>7</th>\n",
       "      <td>Product_0979</td>\n",
       "      <td>Whse_J</td>\n",
       "      <td>Category_028</td>\n",
       "      <td>2012-06-27</td>\n",
       "      <td>500.0</td>\n",
       "      <td>0</td>\n",
       "      <td>500.0</td>\n",
       "      <td>26</td>\n",
       "      <td>6</td>\n",
       "      <td>2012</td>\n",
       "    </tr>\n",
       "    <tr>\n",
       "      <th>8</th>\n",
       "      <td>Product_0979</td>\n",
       "      <td>Whse_J</td>\n",
       "      <td>Category_028</td>\n",
       "      <td>2012-07-23</td>\n",
       "      <td>500.0</td>\n",
       "      <td>0</td>\n",
       "      <td>500.0</td>\n",
       "      <td>30</td>\n",
       "      <td>7</td>\n",
       "      <td>2012</td>\n",
       "    </tr>\n",
       "    <tr>\n",
       "      <th>9</th>\n",
       "      <td>Product_0979</td>\n",
       "      <td>Whse_J</td>\n",
       "      <td>Category_028</td>\n",
       "      <td>2012-08-29</td>\n",
       "      <td>500.0</td>\n",
       "      <td>0</td>\n",
       "      <td>500.0</td>\n",
       "      <td>35</td>\n",
       "      <td>8</td>\n",
       "      <td>2012</td>\n",
       "    </tr>\n",
       "    <tr>\n",
       "      <th>11</th>\n",
       "      <td>Product_0979</td>\n",
       "      <td>Whse_J</td>\n",
       "      <td>Category_028</td>\n",
       "      <td>2012-09-18</td>\n",
       "      <td>500.0</td>\n",
       "      <td>0</td>\n",
       "      <td>500.0</td>\n",
       "      <td>38</td>\n",
       "      <td>9</td>\n",
       "      <td>2012</td>\n",
       "    </tr>\n",
       "    <tr>\n",
       "      <th>12</th>\n",
       "      <td>Product_0979</td>\n",
       "      <td>Whse_J</td>\n",
       "      <td>Category_028</td>\n",
       "      <td>2012-10-11</td>\n",
       "      <td>500.0</td>\n",
       "      <td>0</td>\n",
       "      <td>500.0</td>\n",
       "      <td>41</td>\n",
       "      <td>10</td>\n",
       "      <td>2012</td>\n",
       "    </tr>\n",
       "    <tr>\n",
       "      <th>13</th>\n",
       "      <td>Product_0979</td>\n",
       "      <td>Whse_J</td>\n",
       "      <td>Category_028</td>\n",
       "      <td>2012-11-01</td>\n",
       "      <td>500.0</td>\n",
       "      <td>0</td>\n",
       "      <td>500.0</td>\n",
       "      <td>44</td>\n",
       "      <td>11</td>\n",
       "      <td>2012</td>\n",
       "    </tr>\n",
       "    <tr>\n",
       "      <th>14</th>\n",
       "      <td>Product_0979</td>\n",
       "      <td>Whse_J</td>\n",
       "      <td>Category_028</td>\n",
       "      <td>2012-11-29</td>\n",
       "      <td>500.0</td>\n",
       "      <td>0</td>\n",
       "      <td>500.0</td>\n",
       "      <td>48</td>\n",
       "      <td>11</td>\n",
       "      <td>2012</td>\n",
       "    </tr>\n",
       "    <tr>\n",
       "      <th>15</th>\n",
       "      <td>Product_0979</td>\n",
       "      <td>Whse_J</td>\n",
       "      <td>Category_028</td>\n",
       "      <td>2012-12-26</td>\n",
       "      <td>500.0</td>\n",
       "      <td>0</td>\n",
       "      <td>500.0</td>\n",
       "      <td>52</td>\n",
       "      <td>12</td>\n",
       "      <td>2012</td>\n",
       "    </tr>\n",
       "    <tr>\n",
       "      <th>16</th>\n",
       "      <td>Product_1159</td>\n",
       "      <td>Whse_J</td>\n",
       "      <td>Category_006</td>\n",
       "      <td>2012-01-06</td>\n",
       "      <td>50000.0</td>\n",
       "      <td>0</td>\n",
       "      <td>50000.0</td>\n",
       "      <td>1</td>\n",
       "      <td>1</td>\n",
       "      <td>2012</td>\n",
       "    </tr>\n",
       "    <tr>\n",
       "      <th>18</th>\n",
       "      <td>Product_1159</td>\n",
       "      <td>Whse_J</td>\n",
       "      <td>Category_006</td>\n",
       "      <td>2012-02-02</td>\n",
       "      <td>50000.0</td>\n",
       "      <td>0</td>\n",
       "      <td>50000.0</td>\n",
       "      <td>5</td>\n",
       "      <td>2</td>\n",
       "      <td>2012</td>\n",
       "    </tr>\n",
       "    <tr>\n",
       "      <th>19</th>\n",
       "      <td>Product_1159</td>\n",
       "      <td>Whse_J</td>\n",
       "      <td>Category_006</td>\n",
       "      <td>2012-02-22</td>\n",
       "      <td>50000.0</td>\n",
       "      <td>0</td>\n",
       "      <td>50000.0</td>\n",
       "      <td>8</td>\n",
       "      <td>2</td>\n",
       "      <td>2012</td>\n",
       "    </tr>\n",
       "    <tr>\n",
       "      <th>20</th>\n",
       "      <td>Product_1159</td>\n",
       "      <td>Whse_J</td>\n",
       "      <td>Category_006</td>\n",
       "      <td>2012-03-02</td>\n",
       "      <td>50000.0</td>\n",
       "      <td>0</td>\n",
       "      <td>50000.0</td>\n",
       "      <td>9</td>\n",
       "      <td>3</td>\n",
       "      <td>2012</td>\n",
       "    </tr>\n",
       "    <tr>\n",
       "      <th>21</th>\n",
       "      <td>Product_1159</td>\n",
       "      <td>Whse_J</td>\n",
       "      <td>Category_006</td>\n",
       "      <td>2012-03-09</td>\n",
       "      <td>50000.0</td>\n",
       "      <td>0</td>\n",
       "      <td>50000.0</td>\n",
       "      <td>10</td>\n",
       "      <td>3</td>\n",
       "      <td>2012</td>\n",
       "    </tr>\n",
       "    <tr>\n",
       "      <th>22</th>\n",
       "      <td>Product_1159</td>\n",
       "      <td>Whse_J</td>\n",
       "      <td>Category_006</td>\n",
       "      <td>2012-03-23</td>\n",
       "      <td>50000.0</td>\n",
       "      <td>0</td>\n",
       "      <td>50000.0</td>\n",
       "      <td>12</td>\n",
       "      <td>3</td>\n",
       "      <td>2012</td>\n",
       "    </tr>\n",
       "    <tr>\n",
       "      <th>23</th>\n",
       "      <td>Product_1159</td>\n",
       "      <td>Whse_J</td>\n",
       "      <td>Category_006</td>\n",
       "      <td>2012-04-06</td>\n",
       "      <td>50000.0</td>\n",
       "      <td>0</td>\n",
       "      <td>50000.0</td>\n",
       "      <td>14</td>\n",
       "      <td>4</td>\n",
       "      <td>2012</td>\n",
       "    </tr>\n",
       "    <tr>\n",
       "      <th>24</th>\n",
       "      <td>Product_1159</td>\n",
       "      <td>Whse_J</td>\n",
       "      <td>Category_006</td>\n",
       "      <td>2012-04-16</td>\n",
       "      <td>50000.0</td>\n",
       "      <td>0</td>\n",
       "      <td>50000.0</td>\n",
       "      <td>16</td>\n",
       "      <td>4</td>\n",
       "      <td>2012</td>\n",
       "    </tr>\n",
       "    <tr>\n",
       "      <th>25</th>\n",
       "      <td>Product_1159</td>\n",
       "      <td>Whse_J</td>\n",
       "      <td>Category_006</td>\n",
       "      <td>2012-05-07</td>\n",
       "      <td>50000.0</td>\n",
       "      <td>0</td>\n",
       "      <td>50000.0</td>\n",
       "      <td>19</td>\n",
       "      <td>5</td>\n",
       "      <td>2012</td>\n",
       "    </tr>\n",
       "    <tr>\n",
       "      <th>26</th>\n",
       "      <td>Product_1159</td>\n",
       "      <td>Whse_J</td>\n",
       "      <td>Category_006</td>\n",
       "      <td>2012-04-17</td>\n",
       "      <td>50000.0</td>\n",
       "      <td>0</td>\n",
       "      <td>50000.0</td>\n",
       "      <td>16</td>\n",
       "      <td>4</td>\n",
       "      <td>2012</td>\n",
       "    </tr>\n",
       "    <tr>\n",
       "      <th>27</th>\n",
       "      <td>Product_1159</td>\n",
       "      <td>Whse_J</td>\n",
       "      <td>Category_006</td>\n",
       "      <td>2012-05-30</td>\n",
       "      <td>50000.0</td>\n",
       "      <td>0</td>\n",
       "      <td>50000.0</td>\n",
       "      <td>22</td>\n",
       "      <td>5</td>\n",
       "      <td>2012</td>\n",
       "    </tr>\n",
       "    <tr>\n",
       "      <th>28</th>\n",
       "      <td>Product_1159</td>\n",
       "      <td>Whse_J</td>\n",
       "      <td>Category_006</td>\n",
       "      <td>2012-06-20</td>\n",
       "      <td>50000.0</td>\n",
       "      <td>0</td>\n",
       "      <td>50000.0</td>\n",
       "      <td>25</td>\n",
       "      <td>6</td>\n",
       "      <td>2012</td>\n",
       "    </tr>\n",
       "    <tr>\n",
       "      <th>29</th>\n",
       "      <td>Product_1159</td>\n",
       "      <td>Whse_J</td>\n",
       "      <td>Category_006</td>\n",
       "      <td>2012-06-29</td>\n",
       "      <td>50000.0</td>\n",
       "      <td>0</td>\n",
       "      <td>50000.0</td>\n",
       "      <td>26</td>\n",
       "      <td>6</td>\n",
       "      <td>2012</td>\n",
       "    </tr>\n",
       "    <tr>\n",
       "      <th>30</th>\n",
       "      <td>Product_1159</td>\n",
       "      <td>Whse_J</td>\n",
       "      <td>Category_006</td>\n",
       "      <td>2012-07-09</td>\n",
       "      <td>50000.0</td>\n",
       "      <td>0</td>\n",
       "      <td>50000.0</td>\n",
       "      <td>28</td>\n",
       "      <td>7</td>\n",
       "      <td>2012</td>\n",
       "    </tr>\n",
       "    <tr>\n",
       "      <th>31</th>\n",
       "      <td>Product_1159</td>\n",
       "      <td>Whse_J</td>\n",
       "      <td>Category_006</td>\n",
       "      <td>2012-07-17</td>\n",
       "      <td>50000.0</td>\n",
       "      <td>0</td>\n",
       "      <td>50000.0</td>\n",
       "      <td>29</td>\n",
       "      <td>7</td>\n",
       "      <td>2012</td>\n",
       "    </tr>\n",
       "  </tbody>\n",
       "</table>\n",
       "</div>"
      ]
     },
     "execution_count": 280,
     "metadata": {},
     "output_type": "execute_result"
    }
   ],
   "execution_count": 280
  },
  {
   "metadata": {
    "ExecuteTime": {
     "end_time": "2024-04-20T14:03:19.437494Z",
     "start_time": "2024-04-20T14:03:19.425856Z"
    }
   },
   "cell_type": "code",
   "source": "demand_df['year'].unique()",
   "id": "2a9373679b6798dc",
   "outputs": [
    {
     "data": {
      "text/plain": [
       "array([2012, 2013, 2014, 2015, 2016])"
      ]
     },
     "execution_count": 281,
     "metadata": {},
     "output_type": "execute_result"
    }
   ],
   "execution_count": 281
  },
  {
   "metadata": {
    "ExecuteTime": {
     "end_time": "2024-04-20T14:03:19.448004Z",
     "start_time": "2024-04-20T14:03:19.438497Z"
    }
   },
   "cell_type": "code",
   "source": "demand_df['month'].unique()",
   "id": "10bb9413edc85604",
   "outputs": [
    {
     "data": {
      "text/plain": [
       "array([ 7,  1,  2,  3,  4,  6,  8,  9, 10, 11, 12,  5])"
      ]
     },
     "execution_count": 282,
     "metadata": {},
     "output_type": "execute_result"
    }
   ],
   "execution_count": 282
  },
  {
   "metadata": {
    "ExecuteTime": {
     "end_time": "2024-04-20T14:03:19.451151Z",
     "start_time": "2024-04-20T14:03:19.449008Z"
    }
   },
   "cell_type": "code",
   "source": "",
   "id": "4d94907f4a697578",
   "outputs": [],
   "execution_count": 282
  },
  {
   "metadata": {
    "ExecuteTime": {
     "end_time": "2024-04-20T14:03:23.293832Z",
     "start_time": "2024-04-20T14:03:19.451151Z"
    }
   },
   "cell_type": "code",
   "source": [
    "# Exportar cada DataFrame a un archivo CSV\n",
    "df_whse_j.to_csv('demand_whse_a.csv', index=False)\n",
    "df_whse_s.to_csv('demand_whse_b.csv', index=False)\n",
    "df_whse_c.to_csv('demand_whse_c.csv', index=False)\n",
    "df_whse_a.to_csv('demand_whse_d.csv', index=False)\n",
    "demand_df.to_csv('demand_limpio.csv', index=False)"
   ],
   "id": "b4541a719925ed01",
   "outputs": [],
   "execution_count": 283
  },
  {
   "metadata": {
    "ExecuteTime": {
     "end_time": "2024-04-20T14:14:49.245628Z",
     "start_time": "2024-04-20T14:14:49.234830Z"
    }
   },
   "cell_type": "code",
   "source": "df_whse_j.column()",
   "id": "c08cbd833b555207",
   "outputs": [
    {
     "ename": "AttributeError",
     "evalue": "'DataFrame' object has no attribute 'column'",
     "output_type": "error",
     "traceback": [
      "\u001B[1;31m---------------------------------------------------------------------------\u001B[0m",
      "\u001B[1;31mAttributeError\u001B[0m                            Traceback (most recent call last)",
      "\u001B[1;32m~\\AppData\\Local\\Temp\\ipykernel_14064\\1951650694.py\u001B[0m in \u001B[0;36m?\u001B[1;34m()\u001B[0m\n\u001B[1;32m----> 1\u001B[1;33m \u001B[0mdf_whse_j\u001B[0m\u001B[1;33m.\u001B[0m\u001B[0mcolumn\u001B[0m\u001B[1;33m(\u001B[0m\u001B[1;33m)\u001B[0m\u001B[1;33m\u001B[0m\u001B[1;33m\u001B[0m\u001B[0m\n\u001B[0m",
      "\u001B[1;32m~\\anaconda3\\Lib\\site-packages\\pandas\\core\\generic.py\u001B[0m in \u001B[0;36m?\u001B[1;34m(self, name)\u001B[0m\n\u001B[0;32m   5985\u001B[0m             \u001B[1;32mand\u001B[0m \u001B[0mname\u001B[0m \u001B[1;32mnot\u001B[0m \u001B[1;32min\u001B[0m \u001B[0mself\u001B[0m\u001B[1;33m.\u001B[0m\u001B[0m_accessors\u001B[0m\u001B[1;33m\u001B[0m\u001B[1;33m\u001B[0m\u001B[0m\n\u001B[0;32m   5986\u001B[0m             \u001B[1;32mand\u001B[0m \u001B[0mself\u001B[0m\u001B[1;33m.\u001B[0m\u001B[0m_info_axis\u001B[0m\u001B[1;33m.\u001B[0m\u001B[0m_can_hold_identifiers_and_holds_name\u001B[0m\u001B[1;33m(\u001B[0m\u001B[0mname\u001B[0m\u001B[1;33m)\u001B[0m\u001B[1;33m\u001B[0m\u001B[1;33m\u001B[0m\u001B[0m\n\u001B[0;32m   5987\u001B[0m         ):\n\u001B[0;32m   5988\u001B[0m             \u001B[1;32mreturn\u001B[0m \u001B[0mself\u001B[0m\u001B[1;33m[\u001B[0m\u001B[0mname\u001B[0m\u001B[1;33m]\u001B[0m\u001B[1;33m\u001B[0m\u001B[1;33m\u001B[0m\u001B[0m\n\u001B[1;32m-> 5989\u001B[1;33m         \u001B[1;32mreturn\u001B[0m \u001B[0mobject\u001B[0m\u001B[1;33m.\u001B[0m\u001B[0m__getattribute__\u001B[0m\u001B[1;33m(\u001B[0m\u001B[0mself\u001B[0m\u001B[1;33m,\u001B[0m \u001B[0mname\u001B[0m\u001B[1;33m)\u001B[0m\u001B[1;33m\u001B[0m\u001B[1;33m\u001B[0m\u001B[0m\n\u001B[0m",
      "\u001B[1;31mAttributeError\u001B[0m: 'DataFrame' object has no attribute 'column'"
     ]
    }
   ],
   "execution_count": 295
  },
  {
   "metadata": {},
   "cell_type": "markdown",
   "source": "#Columna mu, columna de pi, mu n+1",
   "id": "70b1405ba1fbeb63"
  },
  {
   "metadata": {
    "ExecuteTime": {
     "end_time": "2024-04-20T14:03:23.342759Z",
     "start_time": "2024-04-20T14:03:23.304569Z"
    }
   },
   "cell_type": "code",
   "source": "print(demand_df_provedor['product_code'].nunique())",
   "id": "5fd071748a381fac",
   "outputs": [
    {
     "name": "stdout",
     "output_type": "stream",
     "text": [
      "2160\n"
     ]
    }
   ],
   "execution_count": 285
  },
  {
   "metadata": {},
   "cell_type": "code",
   "outputs": [],
   "execution_count": null,
   "source": "",
   "id": "228f0ba65501a62d"
  },
  {
   "metadata": {
    "ExecuteTime": {
     "end_time": "2024-04-20T14:03:24.467098Z",
     "start_time": "2024-04-20T14:03:23.343764Z"
    }
   },
   "cell_type": "code",
   "source": [
    "# Crear la columna 'provedor' que es igual a 'product_code'\n",
    "demand_df['provedor'] = 'Proveedor-' + demand_df['product_code']\n",
    "\n",
    "# Ordenar el DataFrame por la columna 'provedor'\n",
    "demand_df_provedor = demand_df.sort_values('provedor')\n",
    "print(demand_df_provedor['provedor'].unique())\n",
    "print(demand_df_provedor['provedor'].nunique())\n",
    "\n"
   ],
   "id": "95235937abfe973b",
   "outputs": [
    {
     "name": "stdout",
     "output_type": "stream",
     "text": [
      "['Proveedor-Product_0001' 'Proveedor-Product_0002'\n",
      " 'Proveedor-Product_0003' ... 'Proveedor-Product_2170'\n",
      " 'Proveedor-Product_2171' 'Proveedor-Product_2172']\n",
      "2160\n"
     ]
    }
   ],
   "execution_count": 286
  },
  {
   "metadata": {
    "ExecuteTime": {
     "end_time": "2024-04-20T14:03:24.648221Z",
     "start_time": "2024-04-20T14:03:24.468102Z"
    }
   },
   "cell_type": "code",
   "source": [
    "# Obtener la lista de proveedores únicos ordenados\n",
    "unique_providers = demand_df['provedor'].drop_duplicates().sort_values().reset_index(drop=True)\n",
    "\n",
    "# Encontrar los índices impares y pares según las reglas especificadas\n",
    "odd_indices = [i for i in range(len(unique_providers)) if i % 2 == 1 and (i // 2) % 2 == 0]  # Cada segundo número impar\n",
    "even_indices = [i for i in range(len(unique_providers)) if i % 2 == 0 and (i // 5) % 5 == 0]  # Cada quinto número par\n",
    "# Combinar y eliminar duplicados\n",
    "indices_to_remove = list(set(odd_indices + even_indices))\n",
    "# Obtener los proveedores a eliminar\n",
    "providers_to_remove = unique_providers.iloc[indices_to_remove]\n",
    "\n",
    "# Filtrar el DataFrame para excluir proveedores seleccionados\n",
    "filtered_demand_df = demand_df[~demand_df['provedor'].isin(providers_to_remove)]\n",
    "# Verificar los proveedores que quedan\n",
    "remaining_providers = filtered_demand_df['provedor'].unique()\n",
    "print(f\"Proveedores restantes: {len(remaining_providers)}\")\n"
   ],
   "id": "b93ed269e37af948",
   "outputs": [
    {
     "name": "stdout",
     "output_type": "stream",
     "text": [
      "Proveedores restantes: 1402\n"
     ]
    }
   ],
   "execution_count": 287
  },
  {
   "metadata": {
    "ExecuteTime": {
     "end_time": "2024-04-20T14:03:25.057320Z",
     "start_time": "2024-04-20T14:03:24.649224Z"
    }
   },
   "cell_type": "code",
   "source": [
    "# Contar cuántos productos tiene cada proveedor\n",
    "product_counts = demand_df['provedor'].value_counts()\n",
    "\n",
    "# Proveedores a eliminar\n",
    "providers_to_remove = unique_providers.iloc[indices_to_remove]\n",
    "\n",
    "# DataFrame de productos de proveedores eliminados\n",
    "products_to_reassign_df = demand_df[demand_df['provedor'].isin(providers_to_remove)]\n",
    "\n",
    "# Proveedores restantes\n",
    "remaining_providers = demand_df[~demand_df['provedor'].isin(providers_to_remove)]['provedor'].unique()\n",
    "\n",
    "\n",
    "# Asignar aleatoriamente un nuevo proveedor a cada producto en el DataFrame de productos reasignados\n",
    "products_to_reassign_df['provedor'] = np.random.choice(remaining_providers, size=len(products_to_reassign_df))\n",
    "\n",
    "# DataFrame de productos de proveedores no eliminados\n",
    "non_removed_products_df = demand_df[~demand_df['provedor'].isin(providers_to_remove)]\n",
    "\n",
    "# Combinar los dos DataFrames\n",
    "demand_provedor = pd.concat([non_removed_products_df, products_to_reassign_df])\n",
    "\n",
    "# Verificar el resultado\n",
    "print(demand_provedor['provedor'].value_counts())  # Esto mostrará cuántos productos tiene cada proveedor ahora\n"
   ],
   "id": "be675e1d314a574",
   "outputs": [
    {
     "name": "stdout",
     "output_type": "stream",
     "text": [
      "provedor\n",
      "Proveedor-Product_1359    10026\n",
      "Proveedor-Product_1295     7373\n",
      "Proveedor-Product_1378     6938\n",
      "Proveedor-Product_1286     6380\n",
      "Proveedor-Product_1382     6237\n",
      "                          ...  \n",
      "Proveedor-Product_1915      200\n",
      "Proveedor-Product_1019      199\n",
      "Proveedor-Product_0360      198\n",
      "Proveedor-Product_1322      193\n",
      "Proveedor-Product_0465      188\n",
      "Name: count, Length: 1402, dtype: int64\n"
     ]
    },
    {
     "name": "stderr",
     "output_type": "stream",
     "text": [
      "C:\\Users\\jesus\\AppData\\Local\\Temp\\ipykernel_14064\\4184517562.py:15: SettingWithCopyWarning: \n",
      "A value is trying to be set on a copy of a slice from a DataFrame.\n",
      "Try using .loc[row_indexer,col_indexer] = value instead\n",
      "\n",
      "See the caveats in the documentation: https://pandas.pydata.org/pandas-docs/stable/user_guide/indexing.html#returning-a-view-versus-a-copy\n",
      "  products_to_reassign_df['provedor'] = np.random.choice(remaining_providers, size=len(products_to_reassign_df))\n"
     ]
    }
   ],
   "execution_count": 288
  },
  {
   "metadata": {},
   "cell_type": "code",
   "outputs": [],
   "execution_count": null,
   "source": "demand_df[\"\"]",
   "id": "adc0de80a7433ac7"
  },
  {
   "metadata": {
    "ExecuteTime": {
     "end_time": "2024-04-20T14:03:29.496536Z",
     "start_time": "2024-04-20T14:03:25.059323Z"
    }
   },
   "cell_type": "code",
   "source": "demand_provedor.to_csv('demand_provedor.csv', index=False)",
   "id": "d832bb4b8a71073c",
   "outputs": [],
   "execution_count": 289
  },
  {
   "metadata": {
    "ExecuteTime": {
     "end_time": "2024-04-20T14:03:29.498721Z",
     "start_time": "2024-04-20T14:03:29.496536Z"
    }
   },
   "cell_type": "code",
   "source": [
    "demand_df[\"storage\"] = 0\n",
    "    p_o = df[not df[\"order_demand\"] == df[\"storage\"]].index[-1]\n",
    "    mu_b = df[\"mu\"].iloc[-1]  # mu : n - 1\n",
    "\n",
    "    mu = me(p_o, mu_b)  # mu : n\n",
    "    mu_a = me(mu, mu_b)  # mu : n + 1\n",
    "\n",
    "    p_n = df['storage'].iloc[-1]  # last storage count\n",
    "\n",
    "    p_i = abs(p_n - mu - mu_a)  # sales forcasting\n",
    "\n",
    "    # Create a new DataFrame with the calculated values\n",
    "    df_forecast = DataFrame({'mu_n': [mu], 'mu_n+2': [mu_a], 'p_n': [p_n], 'p_i': [p_i]})\n",
    "\n",
    "    # Concatenate the original DataFrame with the new DataFrame\n",
    "    df = pd.concat([df, df_forecast], axis=1)\n",
    "    df.to_csv(r'C:\\Users\\jesus\\PycharmProjects\\pythonProject\\Pochtli\\'demand_imputado.csv', index=False)\n",
    "\n",
    "    return df"
   ],
   "id": "114467cd21e8b999",
   "outputs": [],
   "execution_count": 289
  },
  {
   "metadata": {
    "ExecuteTime": {
     "end_time": "2024-04-20T14:03:29.501161Z",
     "start_time": "2024-04-20T14:03:29.499724Z"
    }
   },
   "cell_type": "code",
   "source": "",
   "id": "cec80b60709db12a",
   "outputs": [],
   "execution_count": 289
  },
  {
   "metadata": {
    "ExecuteTime": {
     "end_time": "2024-04-20T14:03:29.503245Z",
     "start_time": "2024-04-20T14:03:29.501161Z"
    }
   },
   "cell_type": "code",
   "source": "",
   "id": "2f34b46b18bf32c0",
   "outputs": [],
   "execution_count": 289
  },
  {
   "metadata": {
    "ExecuteTime": {
     "end_time": "2024-04-20T14:03:29.544575Z",
     "start_time": "2024-04-20T14:03:29.504248Z"
    }
   },
   "cell_type": "code",
   "source": "print(demand_df['provedor'].value_counts())",
   "id": "e2ff99d61e82b2b7",
   "outputs": [
    {
     "name": "stdout",
     "output_type": "stream",
     "text": [
      "provedor\n",
      "Proveedor-Product_1359    9802\n",
      "Proveedor-Product_1295    7133\n",
      "Proveedor-Product_1378    6742\n",
      "Proveedor-Product_1286    6150\n",
      "Proveedor-Product_1382    5992\n",
      "                          ... \n",
      "Proveedor-Product_1698       2\n",
      "Proveedor-Product_1703       1\n",
      "Proveedor-Product_0465       1\n",
      "Proveedor-Product_2099       1\n",
      "Proveedor-Product_0853       1\n",
      "Name: count, Length: 2160, dtype: int64\n"
     ]
    }
   ],
   "execution_count": 290
  },
  {
   "metadata": {
    "ExecuteTime": {
     "end_time": "2024-04-20T14:03:29.553609Z",
     "start_time": "2024-04-20T14:03:29.545578Z"
    }
   },
   "cell_type": "code",
   "source": "print(df_whse_c['product_code'].nunique())",
   "id": "59782ff41b495778",
   "outputs": [
    {
     "name": "stdout",
     "output_type": "stream",
     "text": [
      "244\n"
     ]
    }
   ],
   "execution_count": 291
  },
  {
   "metadata": {
    "ExecuteTime": {
     "end_time": "2024-04-20T14:03:29.557042Z",
     "start_time": "2024-04-20T14:03:29.553609Z"
    }
   },
   "cell_type": "code",
   "source": "",
   "id": "d2f4a5f497910e21",
   "outputs": [],
   "execution_count": 291
  }
 ],
 "metadata": {
  "kernelspec": {
   "display_name": "Python 3",
   "language": "python",
   "name": "python3"
  },
  "language_info": {
   "codemirror_mode": {
    "name": "ipython",
    "version": 2
   },
   "file_extension": ".py",
   "mimetype": "text/x-python",
   "name": "python",
   "nbconvert_exporter": "python",
   "pygments_lexer": "ipython2",
   "version": "2.7.6"
  }
 },
 "nbformat": 4,
 "nbformat_minor": 5
}
