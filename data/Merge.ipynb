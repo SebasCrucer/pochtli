{
 "cells": [
  {
   "cell_type": "code",
   "id": "initial_id",
   "metadata": {
    "collapsed": true,
    "ExecuteTime": {
     "end_time": "2024-04-20T19:45:54.065186Z",
     "start_time": "2024-04-20T19:45:54.051958Z"
    }
   },
   "source": [
    "import pandas as pd\n",
    "\n",
    "\n",
    "df = pd.read_csv('whs_c_products.csv')"
   ],
   "outputs": [],
   "execution_count": 1
  },
  {
   "metadata": {
    "ExecuteTime": {
     "end_time": "2024-04-20T19:46:15.680405Z",
     "start_time": "2024-04-20T19:46:15.671924Z"
    }
   },
   "cell_type": "code",
   "source": [
    "# Ordenar en orden descendente\n",
    "df_sorted_desc = df.sort_values(by='date', ascending=True)\n",
    "\n",
    "print(df_sorted_desc)\n"
   ],
   "id": "27299d47b7b6ed57",
   "outputs": [
    {
     "name": "stdout",
     "output_type": "stream",
     "text": [
      "      Unnamed: 0  product_code warehouse  year  month  week        date  \\\n",
      "1102        4586            83    Whse_C  2012      2     5  01/02/2012   \n",
      "702         6445           116    Whse_C  2013      2     5  01/02/2013   \n",
      "294         1151            33    Whse_C  2013      2     5  01/02/2013   \n",
      "513         3818            38    Whse_C  2013      2     5  01/02/2013   \n",
      "1314        4798            83    Whse_C  2016      2     5  01/02/2016   \n",
      "...          ...           ...       ...   ...    ...   ...         ...   \n",
      "1347        4831            83    Whse_C  2016     10    44  31/10/2016   \n",
      "291         1144            33    Whse_C  2012     12     1  31/12/2012   \n",
      "838           58            12    Whse_C  2014     12     1  31/12/2014   \n",
      "403         1255            33    Whse_C  2014     12     1  31/12/2014   \n",
      "586         3891            38    Whse_C  2015     12    53  31/12/2015   \n",
      "\n",
      "      order_demand       storage            mu          mu_a            pi  \\\n",
      "1102         20000  3.483515e+04  34835.150740  21891.481719  1.777473e+04   \n",
      "702            240  3.103830e+02    310.383005    248.973833  2.294425e+02   \n",
      "294           1000  4.683525e+03   4683.524683   1469.649397  4.474713e+02   \n",
      "513           1000  1.842337e+03   1842.336708   1107.397930  8.736495e+02   \n",
      "1314         10000  6.649204e+20  30513.458422  12615.465950  6.649204e+20   \n",
      "...            ...           ...           ...           ...           ...   \n",
      "1347         30000  5.711623e+30  22518.420320  29046.098591  5.711623e+30   \n",
      "291            500  5.217728e+03   5217.727959   1101.510315  2.076592e+02   \n",
      "838           1000  1.544048e+03   1544.048047   1069.366126  9.183928e+02   \n",
      "403           5000  6.047269e+03   6047.269382   5133.526846  4.842910e+03   \n",
      "586           3000  3.691135e+03   3597.795211   3076.218889  2.816991e+03   \n",
      "\n",
      "               pir        provedor  \n",
      "1102  1.777473e+04  Proveedor-0083  \n",
      "702   2.294425e+02  Proveedor-0116  \n",
      "294   4.474713e+02  Proveedor-0033  \n",
      "513   8.736495e+02  Proveedor-0038  \n",
      "1314  6.649204e+20  Proveedor-0083  \n",
      "...            ...             ...  \n",
      "1347  5.711623e+30  Proveedor-0083  \n",
      "291   2.076592e+02  Proveedor-0033  \n",
      "838   9.183928e+02  Proveedor-0012  \n",
      "403   4.842910e+03  Proveedor-0033  \n",
      "586   2.816991e+03  Proveedor-0038  \n",
      "\n",
      "[1400 rows x 14 columns]\n"
     ]
    }
   ],
   "execution_count": 3
  },
  {
   "metadata": {
    "ExecuteTime": {
     "end_time": "2024-04-20T19:46:44.617792Z",
     "start_time": "2024-04-20T19:46:44.614138Z"
    }
   },
   "cell_type": "code",
   "source": "df = df_sorted_desc",
   "id": "bbe0cd7c4d678f13",
   "outputs": [],
   "execution_count": 4
  },
  {
   "metadata": {
    "ExecuteTime": {
     "end_time": "2024-04-20T19:47:59.497449Z",
     "start_time": "2024-04-20T19:47:59.481832Z"
    }
   },
   "cell_type": "code",
   "source": "df.to_csv('whse_c_final.csv', index=False)",
   "id": "995a42e23a255ed6",
   "outputs": [],
   "execution_count": 5
  },
  {
   "metadata": {
    "ExecuteTime": {
     "end_time": "2024-04-20T19:49:08.874971Z",
     "start_time": "2024-04-20T19:49:08.839059Z"
    }
   },
   "cell_type": "code",
   "source": [
    "df_final = pd.read_csv('whse_c_final.csv')\n",
    "print(df_final.info(), df_final.head(5), df_final.describe())\n"
   ],
   "id": "8651f973646c9f88",
   "outputs": [
    {
     "name": "stdout",
     "output_type": "stream",
     "text": [
      "<class 'pandas.core.frame.DataFrame'>\n",
      "RangeIndex: 1400 entries, 0 to 1399\n",
      "Data columns (total 14 columns):\n",
      " #   Column        Non-Null Count  Dtype  \n",
      "---  ------        --------------  -----  \n",
      " 0   Unnamed: 0    1400 non-null   int64  \n",
      " 1   product_code  1400 non-null   int64  \n",
      " 2   warehouse     1400 non-null   object \n",
      " 3   year          1400 non-null   int64  \n",
      " 4   month         1400 non-null   int64  \n",
      " 5   week          1400 non-null   int64  \n",
      " 6   date          1400 non-null   object \n",
      " 7   order_demand  1400 non-null   int64  \n",
      " 8   storage       1400 non-null   float64\n",
      " 9   mu            1400 non-null   float64\n",
      " 10  mu_a          1400 non-null   float64\n",
      " 11  pi            1400 non-null   float64\n",
      " 12  pir           1400 non-null   float64\n",
      " 13  provedor      1400 non-null   object \n",
      "dtypes: float64(5), int64(6), object(3)\n",
      "memory usage: 153.3+ KB\n",
      "None    Unnamed: 0  product_code warehouse  year  month  week        date  \\\n",
      "0        4586            83    Whse_C  2012      2     5  01/02/2012   \n",
      "1        6445           116    Whse_C  2013      2     5  01/02/2013   \n",
      "2        1151            33    Whse_C  2013      2     5  01/02/2013   \n",
      "3        3818            38    Whse_C  2013      2     5  01/02/2013   \n",
      "4        4798            83    Whse_C  2016      2     5  01/02/2016   \n",
      "\n",
      "   order_demand       storage            mu          mu_a            pi  \\\n",
      "0         20000  3.483515e+04  34835.150740  21891.481719  1.777473e+04   \n",
      "1           240  3.103830e+02    310.383005    248.973833  2.294425e+02   \n",
      "2          1000  4.683525e+03   4683.524683   1469.649397  4.474713e+02   \n",
      "3          1000  1.842337e+03   1842.336708   1107.397930  8.736495e+02   \n",
      "4         10000  6.649204e+20  30513.458422  12615.465950  6.649204e+20   \n",
      "\n",
      "            pir        provedor  \n",
      "0  1.777473e+04  Proveedor-0083  \n",
      "1  2.294425e+02  Proveedor-0116  \n",
      "2  4.474713e+02  Proveedor-0033  \n",
      "3  8.736495e+02  Proveedor-0038  \n",
      "4  6.649204e+20  Proveedor-0083           Unnamed: 0  product_code         year        month         week  \\\n",
      "count  1400.000000   1400.000000  1400.000000  1400.000000  1400.000000   \n",
      "mean   4026.067857     66.976429  2014.119286     6.633571    26.967143   \n",
      "std    2096.606793     31.265268     1.387445     3.420184    14.955844   \n",
      "min       0.000000     12.000000  2012.000000     1.000000     1.000000   \n",
      "25%    1334.750000     33.000000  2013.000000     4.000000    14.000000   \n",
      "50%    4618.500000     83.000000  2014.000000     7.000000    28.000000   \n",
      "75%    6078.250000     94.000000  2015.000000    10.000000    40.000000   \n",
      "max    6522.000000    116.000000  2016.000000    12.000000    53.000000   \n",
      "\n",
      "        order_demand       storage            mu           mu_a            pi  \\\n",
      "count    1400.000000  1.400000e+03   1400.000000    1400.000000  1.400000e+03   \n",
      "mean    15037.251429  8.355289e+30  14979.161166   15029.844920  8.355289e+30   \n",
      "std     23493.481956  1.803658e+32  13339.120918   21351.264604  1.803658e+32   \n",
      "min         6.000000  5.048936e+01     50.489360      17.810280  3.477850e-01   \n",
      "25%      1000.000000  3.270045e+03   3221.240221    1952.434609  1.074765e+03   \n",
      "50%      4000.000000  1.447618e+04  11031.567019    5445.887645  5.526053e+03   \n",
      "75%     20000.000000  3.544743e+04  26142.913174   19054.349489  5.143121e+04   \n",
      "max    254000.000000  5.848702e+33  64818.422295  225523.968600  5.848702e+33   \n",
      "\n",
      "                pir  \n",
      "count  1.400000e+03  \n",
      "mean   8.355289e+30  \n",
      "std    1.803658e+32  \n",
      "min    3.477850e-01  \n",
      "25%    1.074765e+03  \n",
      "50%    5.526053e+03  \n",
      "75%    5.143121e+04  \n",
      "max    5.848702e+33  \n"
     ]
    }
   ],
   "execution_count": 12
  },
  {
   "metadata": {},
   "cell_type": "code",
   "outputs": [],
   "execution_count": null,
   "source": "",
   "id": "6bf3803894599ac5"
  }
 ],
 "metadata": {
  "kernelspec": {
   "display_name": "Python 3",
   "language": "python",
   "name": "python3"
  },
  "language_info": {
   "codemirror_mode": {
    "name": "ipython",
    "version": 2
   },
   "file_extension": ".py",
   "mimetype": "text/x-python",
   "name": "python",
   "nbconvert_exporter": "python",
   "pygments_lexer": "ipython2",
   "version": "2.7.6"
  }
 },
 "nbformat": 4,
 "nbformat_minor": 5
}
